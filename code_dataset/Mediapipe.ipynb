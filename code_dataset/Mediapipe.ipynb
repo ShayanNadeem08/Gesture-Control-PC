{
 "cells": [
  {
   "cell_type": "code",
   "execution_count": 29,
   "id": "578b7d8c-923b-4861-bde7-2d9ca5c8f393",
   "metadata": {},
   "outputs": [],
   "source": [
    "import torch\n",
    "import numpy as np\n",
    "import matplotlib.pyplot as plt\n",
    "import cv2\n",
    "import os\n",
    "GESTURE_MAP_STR2NUM = {'down': 0, 'left': 1, 'right': 2, 'up': 3, \"none\":4}\n",
    "GESTURE_MAP_NUM2STR = {0: 'down', 1: 'left', 2: 'right', 3: 'up', 4:\"none\"}\n",
    "DATASET_PATH = \"../../Dataset/mp\"\n",
    "folder = DATASET_PATH"
   ]
  },
  {
   "cell_type": "code",
   "execution_count": 33,
   "id": "8cc850ce-cdae-405d-9090-ba1ea5dbd9ab",
   "metadata": {},
   "outputs": [
    {
     "name": "stdout",
     "output_type": "stream",
     "text": [
      "Dataset\n"
     ]
    }
   ],
   "source": [
    "def get_trace_frame(frame, hand_landmarks):\n",
    "    trace_frame = np.zeros((64,64))\n",
    "    for landmark in hand_landmarks:\n",
    "        y = int(landmark[0] + 3*np.random.rand()-1 )\n",
    "        x = int(landmark[1] + 3*np.random.rand()-1 )\n",
    "        \n",
    "        N = 63\n",
    "        X = 255\n",
    "        trace_frame[min(x,N)][min(y,N)] = X\n",
    "        \n",
    "        trace_frame[min(x+1,N)][min(y,N)] = X\n",
    "        trace_frame[min(max(x-1,0),N)][min(y,N)] = X\n",
    "        trace_frame[min(x,N)][min(y+1,N)] = X\n",
    "        trace_frame[min(x,N)][min(max(y-1,0),N)] = X\n",
    "        \n",
    "        trace_frame[min(x+1,N)][min(y+1,N)] = X\n",
    "        trace_frame[min(max(x-1,0),N)][min(y+1,N)] = X\n",
    "        trace_frame[min(x+1,N)][min(max(y-1,0),N)] = X\n",
    "        trace_frame[min(max(x-1,0),N)][min(max(y-1,0),N)] = X\n",
    "    return trace_frame\n",
    "\n",
    "def get_trace_video(label):\n",
    "    center = 60 * np.random.rand(1,2)+2\n",
    "    \n",
    "    hand_landmarks = 11 * np.random.rand(21,2) + center\n",
    "    trace_video = np.zeros((8,64,64))\n",
    "    for i in range(8):\n",
    "        trace_video[i] = get_trace_frame(None, hand_landmarks)\n",
    "\n",
    "        d=8+5*np.random.rand()\n",
    "        e=5\n",
    "        if label == \"right\":\n",
    "            hand_landmarks += np.array([d*np.random.rand(21,1), e*np.random.rand(21,1)]).T[0]\n",
    "        if label == \"left\":\n",
    "            hand_landmarks -= np.array([d*np.random.rand(21,1), e*np.random.rand(21,1)]).T[0]\n",
    "        if label == \"up\":\n",
    "            hand_landmarks -= np.array([e*np.random.rand(21,1), d*np.random.rand(21,1)]).T[0]\n",
    "        if label == \"down\":\n",
    "            hand_landmarks += np.array([e*np.random.rand(21,1), d*np.random.rand(21,1)]).T[0]\n",
    "        if label == \"none\":\n",
    "            hand_landmarks += np.array([0*np.random.rand(21,1), 0*np.random.rand(21,1)]).T[0]\n",
    "        \n",
    "        if SAVE:\n",
    "            if not os.path.isdir(f\"{folder}/image/{label}/{k}/\"):\n",
    "                os.mkdir(f\"{folder}/image/{label}/{k}/\")\n",
    "            cv2.imwrite(f\"{folder}/image/{label}/{k}/{i}.jpg\", trace_video[i])\n",
    "        \n",
    "    return np.array(trace_video)\n",
    "\n",
    "dataset=[]\n",
    "for label in [\"up\",\"down\",\"right\",\"left\",\"none\"]:\n",
    "    for k in range(10):\n",
    "        video = get_trace_video(label)\n",
    "        dataset.append([video,label])\n",
    "\n",
    "SAVE=False\n",
    "print(\"Dataset\")"
   ]
  },
  {
   "cell_type": "code",
   "execution_count": 49,
   "id": "790b18de-0b6e-4860-b2d7-e526ec21e742",
   "metadata": {},
   "outputs": [
    {
     "name": "stdout",
     "output_type": "stream",
     "text": [
      "Dataset\n"
     ]
    }
   ],
   "source": [
    "def get_trace_frame(frame, hand_landmarks):\n",
    "    trace_frame = np.zeros((64,64))\n",
    "    for landmark in hand_landmarks:\n",
    "        y = int(landmark[0]) #+ 3*np.random.rand()-1 )\n",
    "        x = int(landmark[1]) #+ 3*np.random.rand()-1 )\n",
    "        \n",
    "        N = 63\n",
    "        X = 255\n",
    "        trace_frame[min(x,N)][min(y,N)] = X\n",
    "        \n",
    "        trace_frame[min(x+1,N)][min(y,N)] = X\n",
    "        trace_frame[min(max(x-1,0),N)][min(y,N)] = X\n",
    "        trace_frame[min(x,N)][min(y+1,N)] = X\n",
    "        trace_frame[min(x,N)][min(max(y-1,0),N)] = X\n",
    "        \n",
    "        trace_frame[min(x+1,N)][min(y+1,N)] = X\n",
    "        trace_frame[min(max(x-1,0),N)][min(y+1,N)] = X\n",
    "        trace_frame[min(x+1,N)][min(max(y-1,0),N)] = X\n",
    "        trace_frame[min(max(x-1,0),N)][min(max(y-1,0),N)] = X\n",
    "    return trace_frame\n",
    "\n",
    "def get_trace_video(label):\n",
    "    center = 60 * np.random.rand(1,2)+2\n",
    "    \n",
    "    hand_landmarks = 18 * np.random.rand(21,2) + center\n",
    "    trace_video = np.zeros((8,64,64))\n",
    "    for i in range(8):\n",
    "        trace_video[i] = get_trace_frame(None, hand_landmarks)\n",
    "\n",
    "        d=8+5*np.random.rand()\n",
    "        e=5\n",
    "        if label == \"right\":\n",
    "            hand_landmarks += np.array([d*np.random.rand(21,1), e*np.random.rand(21,1)]).T[0]\n",
    "        if label == \"left\":\n",
    "            hand_landmarks -= np.array([d*np.random.rand(21,1), e*np.random.rand(21,1)]).T[0]\n",
    "        if label == \"up\":\n",
    "            hand_landmarks -= np.array([e*np.random.rand(21,1), d*np.random.rand(21,1)]).T[0]\n",
    "        if label == \"down\":\n",
    "            hand_landmarks += np.array([e*np.random.rand(21,1), d*np.random.rand(21,1)]).T[0]\n",
    "        if label == \"none\":\n",
    "            hand_landmarks += np.array([e*np.random.rand(21,1), e*np.random.rand(21,1)]).T[0]\n",
    "        \n",
    "        if SAVE:\n",
    "            if not os.path.isdir(f\"{folder}/image/{label}/{k}/\"):\n",
    "                os.mkdir(f\"{folder}/image/{label}/{k}/\")\n",
    "            cv2.imwrite(f\"{folder}/image/{label}/{k}/{i}.jpg\", trace_video[i])\n",
    "        \n",
    "    return np.array(trace_video)\n",
    "\n",
    "dataset=[]\n",
    "for label in [\"up\",\"down\",\"right\",\"left\",\"none\"]:\n",
    "    for k in range(460):\n",
    "        video = get_trace_video(label)\n",
    "        dataset.append([video,label])\n",
    "\n",
    "SAVE=False\n",
    "print(\"Dataset\")"
   ]
  },
  {
   "cell_type": "code",
   "execution_count": 50,
   "id": "17f900d6-72ab-47ba-80ae-0026a1675c41",
   "metadata": {},
   "outputs": [
    {
     "name": "stdout",
     "output_type": "stream",
     "text": [
      "up\n"
     ]
    },
    {
     "data": {
      "image/png": "[encoded data removed]",
      "text/plain": [
       "<Figure size 1500x500 with 8 Axes>"
      ]
     },
     "metadata": {},
     "output_type": "display_data"
    }
   ],
   "source": [
    "print(dataset[0][1])\n",
    "plt.figure(1,figsize=(15,5))\n",
    "for i in range(8):\n",
    "    plt.subplot(1,8,i+1)\n",
    "    plt.imshow(dataset[0][0][i])"
   ]
  },
  {
   "cell_type": "code",
   "execution_count": null,
   "id": "99c37cb0-4123-484c-84f6-4bda04833ad4",
   "metadata": {},
   "outputs": [],
   "source": []
  }
 ],
 "metadata": {
  "kernelspec": {
   "display_name": "Python [conda env:base] *",
   "language": "python",
   "name": "conda-base-py"
  },
  "language_info": {
   "codemirror_mode": {
    "name": "ipython",
    "version": 3
   },
   "file_extension": ".py",
   "mimetype": "text/x-python",
   "name": "python",
   "nbconvert_exporter": "python",
   "pygments_lexer": "ipython3",
   "version": "3.12.7"
  }
 },
 "nbformat": 4,
 "nbformat_minor": 5
}
