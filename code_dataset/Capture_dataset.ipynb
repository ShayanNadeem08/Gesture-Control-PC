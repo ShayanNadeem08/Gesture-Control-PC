{
 "cells": [
  {
   "cell_type": "code",
   "execution_count": null,
   "id": "dfed1ffe",
   "metadata": {},
   "outputs": [],
   "source": [
    "\"\"\" IN THE NAME OF  ALLAH , THE MOST GRACIOUS, THE MOST MERCIFUL \"\"\""
   ]
  },
  {
   "cell_type": "code",
   "execution_count": 1,
   "id": "9c0ad74b",
   "metadata": {},
   "outputs": [],
   "source": [
    "def display():\n",
    "    # Thread to display video output until q is pressed\n",
    "    while True:\n",
    "        # Capture a frame\n",
    "        ret, frame = cam.read()\n",
    "\n",
    "        # Display the captured frame\n",
    "        cv2.imshow('Camera', frame)\n",
    "\n",
    "        # Press 'q' to exit the loop\n",
    "        if cv2.waitKey(1) == ord('q'):\n",
    "            break\n",
    "    \n",
    "    cam.release()\n",
    "    cv2.destroyAllWindows()\n",
    "\n",
    "def captureFrames():\n",
    "    # Thread to captures frames\n",
    "    # Press enter key in input box to start recording each video.\n",
    "    # Recording stops automatically after recording_time\n",
    "    if not os.path.isdir(f\"{folder}/image/{class_label}/\"):\n",
    "        os.mkdir(f\"{folder}/image/{class_label}/\")\n",
    "    \n",
    "    annotations = open(f\"{folder}/annotations.txt\",'a')\n",
    "    start_no = len(os.listdir(f\"{folder}/image/{class_label}/\"))\n",
    "    \n",
    "    for i in range(num_videos):\n",
    "        # Wait for enter key, and then wait for a second\n",
    "        input(str(i)+\": Press enter key to continue\")\n",
    "        cv2.waitKey(1)\n",
    "        \n",
    "        j=0\n",
    "        while (j<num_frames):\n",
    "            # Capture a frome\n",
    "            ret, frame = cam.read()\n",
    "\n",
    "            # Write the frame to the output file\n",
    "            if not os.path.isdir(f\"{folder}/image/{class_label}/{start_no+i}/\"):\n",
    "                os.mkdir(f\"{folder}/image/{class_label}/{start_no+i}/\")\n",
    "            cv2.imwrite(f\"{folder}/image/{class_label}/{start_no+i}/{j}.jpg\", frame)\n",
    "            \n",
    "            # delay\n",
    "            time.sleep(1/frame_rate)\n",
    "            \n",
    "            j+=1\n",
    "        \n",
    "        class_map = {\"down\":0, \"left\":1, \"right\":2, \"up\":3}\n",
    "        label = class_map[class_label]\n",
    "        annotations.writelines(f\"image/{class_label}/{start_no+i} 0 7 {label}\\n\")\n",
    "    annotations.close()"
   ]
  },
  {
   "cell_type": "code",
   "execution_count": 2,
   "id": "5a77fd4e",
   "metadata": {},
   "outputs": [
    {
     "name": "stderr",
     "output_type": "stream",
     "text": [
      "Exception in thread Thread-6 (captureFrames):\n",
      "Traceback (most recent call last):\n",
      "  File \"c:\\Users\\PMLS\\anaconda3\\Lib\\threading.py\", line 1075, in _bootstrap_inner\n",
      "    self.run()\n",
      "  File \"c:\\Users\\PMLS\\anaconda3\\Lib\\threading.py\", line 1012, in run\n",
      "    self._target(*self._args, **self._kwargs)\n",
      "  File \"C:\\Users\\PMLS\\AppData\\Local\\Temp\\ipykernel_16136\\2561881977.py\", line 40, in captureFrames\n",
      "cv2.error: OpenCV(4.11.0) D:\\a\\opencv-python\\opencv-python\\opencv\\modules\\imgcodecs\\src\\loadsave.cpp:929: error: (-215:Assertion failed) !_img.empty() in function 'cv::imwrite'\n",
      "\n"
     ]
    },
    {
     "name": "stdout",
     "output_type": "stream",
     "text": [
      "Done! Please close video window by pressing 'q'\n"
     ]
    }
   ],
   "source": [
    "# Run\n",
    "import threading\n",
    "import cv2\n",
    "import time\n",
    "import os\n",
    "\n",
    "DATASET_PATH = \"../../dataset/\"\n",
    "\n",
    "# Parameters\n",
    "num_videos = 10\n",
    "num_frames = 8\n",
    "recording_time = 1 # second\n",
    "folder = DATASET_PATH\n",
    "class_label = input(\"Enter class label (up,down,right,left): \")\n",
    "\n",
    "assert class_label in [\"up\",\"down\",\"left\",\"right\"]\n",
    "\n",
    "# Open the default camera\n",
    "cam = cv2.VideoCapture(0)\n",
    "\n",
    "# Get the default frame width and height\n",
    "frame_width = int(cam.get(cv2.CAP_PROP_FRAME_WIDTH))\n",
    "frame_height = int(cam.get(cv2.CAP_PROP_FRAME_HEIGHT))\n",
    "frame_rate = 10\n",
    "\n",
    "# Define the codec and create VideoWriter object\n",
    "fourcc = cv2.VideoWriter_fourcc(*'mp4v')\n",
    "\n",
    "# To run display and capture in parrallel, make two threads\n",
    "thread1 = threading.Thread(target=display)\n",
    "thread2 = threading.Thread(target=captureFrames)\n",
    "\n",
    "thread1.start()\n",
    "thread2.start()\n",
    "thread2.join()\n",
    "print(\"Done! Please close video window by pressing 'q'\")\n",
    "thread1.join()"
   ]
  },
  {
   "cell_type": "code",
   "execution_count": null,
   "id": "160bc273-bf53-41dd-b2c7-53f82dfaeace",
   "metadata": {},
   "outputs": [],
   "source": []
  }
 ],
 "metadata": {
  "kernelspec": {
   "display_name": "Python [conda env:base] *",
   "language": "python",
   "name": "conda-base-py"
  },
  "language_info": {
   "codemirror_mode": {
    "name": "ipython",
    "version": 3
   },
   "file_extension": ".py",
   "mimetype": "text/x-python",
   "name": "python",
   "nbconvert_exporter": "python",
   "pygments_lexer": "ipython3",
   "version": "3.12.7"
  }
 },
 "nbformat": 4,
 "nbformat_minor": 5
}
