{
 "cells": [
  {
   "cell_type": "code",
   "execution_count": 1,
   "metadata": {
    "colab": {
     "base_uri": "https://localhost:8080/"
    },
    "id": "U153cnoOQdcs",
    "outputId": "cef6c952-dee7-4fe1-dd20-0d0046dec414"
   },
   "outputs": [
    {
     "name": "stdout",
     "output_type": "stream",
     "text": [
      "C:\\Users\\PMLS\\FYP\n",
      "Device used: cpu\n"
     ]
    }
   ],
   "source": [
    "import os\n",
    "os.environ[\"KMP_DUPLICATE_LIB_OK\"]=\"TRUE\"   # to prevent kernel dying when using matplotlib with pytorch\n",
    "\n",
    "import numpy as np\n",
    "import matplotlib.pyplot as plt\n",
    "\n",
    "import torch\n",
    "import torch.nn as nn\n",
    "import torch.optim as optim\n",
    "from torch.utils.data import DataLoader\n",
    "from torch.utils.data import Dataset\n",
    "from torch.utils.data import sampler\n",
    "from torch.utils.data import random_split\n",
    "import torchvision.datasets\n",
    "\n",
    "import torchvision.transforms as T\n",
    "import torch.nn.functional as F\n",
    "\n",
    "FOLDER = \"C:/Users/PMLS/FYP\"\n",
    "%cd $FOLDER\n",
    "dtype = torch.float32\n",
    "\n",
    "if torch.cuda.is_available():\n",
    "    device = torch.device('cuda')\n",
    "else:\n",
    "    device = torch.device('cpu')\n",
    "\n",
    "print(\"Device used:\", device)"
   ]
  },
  {
   "cell_type": "code",
   "execution_count": 92,
   "metadata": {
    "id": "eW61XFEcdq8U"
   },
   "outputs": [],
   "source": [
    "class ThreeLayerConvNet(nn.Module):\n",
    "    def __init__(self, input_size, size1, size2, num_classes):\n",
    "        # define layers of nn\n",
    "        super().__init__()\n",
    "        self.layer1 = nn.Linear(input_size, size1)\n",
    "        self.layer2 = nn.Linear(size1, size2)\n",
    "        self.layer3 = nn.Linear(size2, num_classes)\n",
    "\n",
    "        # Subtract the mean and divide by standard deviation\n",
    "        nn.init.kaiming_normal_(self.layer1.weight)\n",
    "        nn.init.kaiming_normal_(self.layer2.weight)\n",
    "        nn.init.kaiming_normal_(self.layer3.weight)\n",
    "\n",
    "    def forward(self, x):\n",
    "        # Implement the forward function (connect the layers)\n",
    "        out1 = F.relu(self.layer1(x))\n",
    "        out2 = F.relu(self.layer2(out1))\n",
    "        scores = self.layer3(out2)\n",
    "\n",
    "        return scores   # for each image, model gives a score to each class"
   ]
  },
  {
   "cell_type": "code",
   "execution_count": 109,
   "metadata": {
    "id": "JDiMemMNJ8Q_"
   },
   "outputs": [],
   "source": [
    "# Prepare dataset\n",
    "def flatten(x):\n",
    "    # Convert multidimensional matrix to 2D matrix (Nxd)\n",
    "    # i.e convert input into a 1d vector per sample\n",
    "    return x.view(len(x), -1)\n",
    "\n",
    "# Preprocessing on images\n",
    "size = 32\n",
    "transforms = T.Compose([T.ToTensor(),\n",
    "                       T.Resize([size,size])\n",
    "                       ])\n",
    "# Load images from folder\n",
    "dataset = torchvision.datasets.ImageFolder(f\"{FOLDER}/datasets/leapGestRecog/all\",\n",
    "                                           transform = transforms)\n",
    "\n",
    "leapGestRecog_classmap = {0:\"palm\",1:\"L\",2:\"fist\",3:\"fist_moved\",4:\"thumb\",5:\"index\",6:\"ok\",7:\"palm_moved\",8:\"c\",9:\"down\"}\n",
    "\n",
    "train_dataset, valid_dataset, test_dataset = random_split(dataset, [0.7,0.2,0.1])\n",
    "batch_size = 4\n",
    "\n",
    "train_loader = DataLoader(train_dataset, batch_size=batch_size,  shuffle=True)\n",
    "valid_loader = DataLoader(valid_dataset, batch_size=batch_size,  shuffle=True)\n",
    "test_loader = DataLoader(test_dataset,   batch_size=batch_size,  shuffle=True)"
   ]
  },
  {
   "cell_type": "code",
   "execution_count": 110,
   "metadata": {
    "id": "IL2M4JRU89Pk"
   },
   "outputs": [
    {
     "name": "stdout",
     "output_type": "stream",
     "text": [
      "Iteration 0, loss = 2.1781\n",
      "Iteration 1, loss = 0.0581\n",
      "Iteration 2, loss = 0.1624\n",
      "Iteration 3, loss = 0.3823\n",
      "Iteration 4, loss = 0.0719\n",
      "Iteration 5, loss = 0.0155\n",
      "Iteration 6, loss = 0.0062\n",
      "Iteration 7, loss = 0.0075\n",
      "Iteration 8, loss = 1.0375\n",
      "Iteration 9, loss = 0.0054\n",
      "Training complete 😊\n",
      "CPU times: total: 4min 52s\n",
      "Wall time: 13min 20s\n"
     ]
    }
   ],
   "source": [
    "%%time\n",
    "\n",
    "def train_model(model, data, epochs):\n",
    "    model = model.to(device=device)  # move the model parameters to CPU/GPU\n",
    "    all_loss = []\n",
    "    for e in range(epochs):\n",
    "        for t, (x, y) in enumerate(data):\n",
    "            x = x.to(device)\n",
    "            model.train()  # put model to training mode\n",
    "            x = flatten(x)\n",
    "            x = x.to(device=device, dtype=dtype)  # move to device, e.g. GPU\n",
    "            y = y.to(device=device)\n",
    "\n",
    "            scores = model(x)\n",
    "            loss = Loss_function(scores, y)\n",
    "\n",
    "            optimizer.zero_grad()\n",
    "\n",
    "            # This is the backwards pass: compute the gradient of the loss with\n",
    "            # respect to each  parameter of the model.\n",
    "            loss.backward()\n",
    "\n",
    "            # Actually update the parameters of the model using the gradients\n",
    "            # computed by the backwards pass.\n",
    "            optimizer.step()\n",
    "\n",
    "        if e % (max(epochs//10, 1)) == 0:\n",
    "            print('Iteration %d, loss = %.4f' % (e, loss.item()))\n",
    "            all_loss.append(loss.item())\n",
    "    #plt.plot(all_loss)\n",
    "    print(\"Training complete\")\n",
    "\n",
    "model = ThreeLayerConvNet(3*size*size,12,8,10)\n",
    "Loss_function =  F.cross_entropy\n",
    "\n",
    "# learning_rate = 1e-1\n",
    "# optimizer = optim.SGD(model.parameters(), lr=learning_rate)\n",
    "# train_model(model, train_loader, 2)\n",
    "\n",
    "learning_rate = 1e-2\n",
    "optimizer = optim.SGD(model.parameters(), lr=learning_rate)\n",
    "train_model(model, train_loader, 10)"
   ]
  },
  {
   "cell_type": "code",
   "execution_count": 113,
   "metadata": {
    "colab": {
     "base_uri": "https://localhost:8080/",
     "height": 356
    },
    "id": "ZjjUAw3ThJPO",
    "outputId": "abeba279-c99a-4c6b-bcd1-6ed701ce822f"
   },
   "outputs": [
    {
     "name": "stdout",
     "output_type": "stream",
     "text": [
      "Got 3972 / 4000 correct (99.30)\n"
     ]
    }
   ],
   "source": [
    "# Validation testing model\n",
    "def check_accuracy_part34(loader, model):\n",
    "    num_correct = 0\n",
    "    num_samples = 0\n",
    "    model.eval()  # set model to evaluation mode\n",
    "    with torch.no_grad():\n",
    "        for t, (x, y) in enumerate(loader):\n",
    "            x = x.to(device=device, dtype=dtype)  # move to device, e.g. GPU\n",
    "            y = y.to(device=device, dtype=torch.long)\n",
    "            x = flatten(x)\n",
    "            scores = model(x)\n",
    "            _, preds = scores.max(1)\n",
    "            num_correct += (preds == y).sum()            \n",
    "        num_samples = batch_size*len(loader)\n",
    "        acc = float(num_correct) / num_samples\n",
    "        print('Got %d / %d correct (%.2f)' % (num_correct, num_samples, 100 * acc))\n",
    "check_accuracy_part34(valid_loader, model)"
   ]
  },
  {
   "cell_type": "code",
   "execution_count": 114,
   "metadata": {},
   "outputs": [
    {
     "name": "stdout",
     "output_type": "stream",
     "text": [
      "prediction = fist_moved, label = fist_moved\n"
     ]
    },
    {
     "data": {
      "image/png": "[encoded data removed]",
      "text/plain": [
       "<Figure size 640x480 with 1 Axes>"
      ]
     },
     "metadata": {},
     "output_type": "display_data"
    }
   ],
   "source": [
    "# Manual testing of model\n",
    "# Pick random image from test dataset\n",
    "model.eval()\n",
    "with torch.no_grad():\n",
    "    for t, (x, y) in enumerate(test_loader):\n",
    "        x = x.to(device=device, dtype=dtype)  # move to device, e.g. GPU\n",
    "        y = y.to(device=device, dtype=torch.long)\n",
    "        xf = flatten(x)\n",
    "        scores = model(xf)\n",
    "        _, preds = scores.max(1)\n",
    "        print(f\"prediction = {leapGestRecog_classmap[int(preds[0])]}, label = {leapGestRecog_classmap[int(y[0])]}\")\n",
    "        image = x[0].permute(1, 2, 0).numpy()\n",
    "        plt.imshow(image)\n",
    "        break"
   ]
  }
 ],
 "metadata": {
  "accelerator": "GPU",
  "colab": {
   "gpuType": "T4",
   "provenance": []
  },
  "kernelspec": {
   "display_name": "Python 3 (ipykernel)",
   "language": "python",
   "name": "python3"
  },
  "language_info": {
   "codemirror_mode": {
    "name": "ipython",
    "version": 3
   },
   "file_extension": ".py",
   "mimetype": "text/x-python",
   "name": "python",
   "nbconvert_exporter": "python",
   "pygments_lexer": "ipython3",
   "version": "3.12.7"
  }
 },
 "nbformat": 4,
 "nbformat_minor": 4
}
