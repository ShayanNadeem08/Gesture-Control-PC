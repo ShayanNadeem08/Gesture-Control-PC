{
 "cells": [
  {
   "cell_type": "code",
   "execution_count": 4,
   "id": "c8fb18f7",
   "metadata": {},
   "outputs": [],
   "source": [
    "\"\"\"\n",
    "    File: key_map.ipynb\n",
    "    Author: Muneeb Ahmad\n",
    "    Date: 2-12-24\n",
    "    Description: Maps gestures predicted from model onto key strokes to control game.\n",
    "\"\"\"\n",
    "\n",
    "import pyautogui\n",
    "import win32gui\n",
    "import time\n",
    "\n",
    "# Gesture-to-key mapping for Subway Surfers\n",
    "gesture_to_key = {\n",
    "    0: 'up',     # Jump\n",
    "    1: 'down',   # Slide\n",
    "    2: 'left',   # Move left\n",
    "    3: 'right'   # Move right\n",
    "}\n",
    "\n",
    "def map_gesture_to_game_action(gesture_number):\n",
    "    \"\"\"\n",
    "    Mapping the given gesture number to the corresponding keypress in the game.\n",
    "    \"\"\"\n",
    "    key_to_press = gesture_to_key.get(gesture_number, None)\n",
    "    if key_to_press:\n",
    "        pyautogui.press(key_to_press)\n",
    "        print(f\"Gesture {gesture_number} detected. Key pressed: {key_to_press}\")\n",
    "    else:\n",
    "        print(f\"Invalid gesture: {gesture_number}\")"
   ]
  },
  {
   "cell_type": "code",
   "execution_count": null,
   "id": "cb6906be",
   "metadata": {},
   "outputs": [],
   "source": [
    "try:\n",
    "    while True:\n",
    "        # input should be the gesture that has detected\n",
    "        gesture_input = int(input(\"\"))\n",
    "        if gesture_input == -1: break\n",
    "        \n",
    "        # bring app to focus\n",
    "        app_window = pyautogui.getWindowsWithTitle(\"SUBWAY SURFERS - Play Online for Free! | Poki\")[0]\n",
    "        win32gui.SetForegroundWindow(app_window._hWnd)\n",
    "        \n",
    "        map_gesture_to_game_action(gesture_input)\n",
    "        time.sleep(0.5)  # Adding a slight delay to simulate real gameplay\n",
    "        \n",
    "except KeyboardInterrupt:\n",
    "    print(\"Exiting simulation.\")"
   ]
  },
  {
   "cell_type": "code",
   "execution_count": 14,
   "id": "d957a228",
   "metadata": {},
   "outputs": [
    {
     "name": "stdout",
     "output_type": "stream",
     "text": [
      "Gesture 0 detected. Key pressed: up\n",
      "Gesture 3 detected. Key pressed: right\n",
      "Gesture 0 detected. Key pressed: up\n",
      "Gesture 1 detected. Key pressed: down\n",
      "Gesture 2 detected. Key pressed: left\n",
      "Gesture 3 detected. Key pressed: right\n"
     ]
    }
   ],
   "source": [
    "for gesture in [0,3,0,1,2,3]:\n",
    "    app_window = pyautogui.getWindowsWithTitle(\"SUBWAY SURFERS - Play Online for Free! | Poki\")[0]\n",
    "    win32gui.SetForegroundWindow(app_window._hWnd)\n",
    "\n",
    "    map_gesture_to_game_action(gesture)\n",
    "    time.sleep(0.5)"
   ]
  },
  {
   "cell_type": "code",
   "execution_count": null,
   "id": "3da8fbc4-c003-402f-bd39-b09e68ce44d5",
   "metadata": {},
   "outputs": [],
   "source": []
  }
 ],
 "metadata": {
  "kernelspec": {
   "display_name": "Python [conda env:base] *",
   "language": "python",
   "name": "conda-base-py"
  },
  "language_info": {
   "codemirror_mode": {
    "name": "ipython",
    "version": 3
   },
   "file_extension": ".py",
   "mimetype": "text/x-python",
   "name": "python",
   "nbconvert_exporter": "python",
   "pygments_lexer": "ipython3",
   "version": "3.12.7"
  }
 },
 "nbformat": 4,
 "nbformat_minor": 5
}
