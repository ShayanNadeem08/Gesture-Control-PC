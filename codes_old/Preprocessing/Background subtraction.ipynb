{
 "cells": [
  {
   "cell_type": "code",
   "execution_count": null,
   "id": "81751971-4297-427f-ae55-db502f721c4b",
   "metadata": {},
   "outputs": [],
   "source": [
    "\"\"\" IN THE NAME OF  ALLAH , THE MOST GRACIOUS, THE MOST MERCIFUL \"\"\""
   ]
  },
  {
   "cell_type": "code",
   "execution_count": null,
   "id": "c917d4ac-1f40-4287-94c8-1cbf0a0a6986",
   "metadata": {},
   "outputs": [],
   "source": [
    "def display():\n",
    "    # Displays video output until q is pressed\n",
    "    while True:\n",
    "        # Capture a frame\n",
    "        f=[]\n",
    "        for i in range(4):\n",
    "            ret, frame = cam.read()\n",
    "            frame = cv2.cvtColor(frame, cv2.COLOR_BGR2GRAY)\n",
    "            f.append(frame)\n",
    "        frame = np.array(frame) - np.average(f,axis=0)\n",
    "        _ , frame = cv2.threshold(frame, 6, 255, cv2.THRESH_BINARY)\n",
    "\n",
    "        # Display the captured frame\n",
    "        cv2.imshow('Camera', frame)\n",
    "\n",
    "        # Press 'q' to exit the loop\n",
    "        if cv2.waitKey(1) == ord('q'):\n",
    "            break\n",
    "    \n",
    "    cam.release()\n",
    "    cv2.destroyAllWindows()\n",
    "\n",
    "# Run\n",
    "\n",
    "import threading\n",
    "import cv2\n",
    "import time\n",
    "import numpy as np\n",
    "import os\n",
    "\n",
    "# Open the default camera\n",
    "cam = cv2.VideoCapture(0)\n",
    "\n",
    "# Get the default frame width and height\n",
    "frame_width = int(cam.get(cv2.CAP_PROP_FRAME_WIDTH))\n",
    "frame_height = int(cam.get(cv2.CAP_PROP_FRAME_HEIGHT))\n",
    "frame_rate = 10\n",
    "\n",
    "try:\n",
    "    display()\n",
    "except Exception as e:\n",
    "    print(e)\n",
    "    cam.release()\n",
    "    cv2.destroyAllWindows()"
   ]
  },
  {
   "cell_type": "code",
   "execution_count": null,
   "id": "0f9407ba-ee00-4e75-97d9-28af6cf2f96b",
   "metadata": {},
   "outputs": [],
   "source": []
  }
 ],
 "metadata": {
  "kernelspec": {
   "display_name": "Python [conda env:base] *",
   "language": "python",
   "name": "conda-base-py"
  },
  "language_info": {
   "codemirror_mode": {
    "name": "ipython",
    "version": 3
   },
   "file_extension": ".py",
   "mimetype": "text/x-python",
   "name": "python",
   "nbconvert_exporter": "python",
   "pygments_lexer": "ipython3",
   "version": "3.12.7"
  }
 },
 "nbformat": 4,
 "nbformat_minor": 5
}
